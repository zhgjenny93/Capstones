{
  "nbformat": 4,
  "nbformat_minor": 0,
  "metadata": {
    "colab": {
      "name": "Capstone 1 - Breast Cancer Diagnosis.ipynb",
      "provenance": [],
      "collapsed_sections": [],
      "authorship_tag": "ABX9TyMPjCNLct3gLQLpvwFnPhxK",
      "include_colab_link": true
    },
    "kernelspec": {
      "name": "python3",
      "display_name": "Python 3"
    }
  },
  "cells": [
    {
      "cell_type": "markdown",
      "metadata": {
        "id": "view-in-github",
        "colab_type": "text"
      },
      "source": [
        "<a href=\"https://colab.research.google.com/github/zhgjenny93/Capstones/blob/main/Capstone_1_Breast_Cancer_Diagnosis.ipynb\" target=\"_parent\"><img src=\"https://colab.research.google.com/assets/colab-badge.svg\" alt=\"Open In Colab\"/></a>"
      ]
    },
    {
      "cell_type": "markdown",
      "metadata": {
        "id": "nbJLyIBM0Xgz"
      },
      "source": [
        "## Introduction\n",
        "The diagnosis of breast tumors is traditionally an invasive surgical procedure through performing a biopsy. Research and development is making the diagnosis of cancer a constantly evolving field, with new, less invasive methods of diagnosing cancer becoming more desirable in medical practices. A new method of diagnosing breast cancer is being analyzed in this study. \n",
        "\n",
        "Instead of a full biopsy, a fine needle will be used to extract a small fluid sample from a breast tumor. The cell nuclei from the extracted breast tumor sample will be processed and studied in order to determine a benign or malignant diagnosis.\n",
        "\n",
        "We will be focused on the physical attributes, specifically: area, concavity, symmetry and smoothness, of the nuclei to determine the differences between benign and malignant tumors."
      ]
    },
    {
      "cell_type": "markdown",
      "metadata": {
        "id": "JDOhUpvY6LTe"
      },
      "source": [
        "## Hypothesis\n",
        "$H_0$: There is no significant difference between the area, concavity, symmetry, and smoothness of a malignant tumor cell nucleus versus that of a benign tumor cell nucleus.\n",
        "\n",
        "$H_a$: There is significant difference between the area, concavity, symmetry, and smoothness of a malignant tumor cell nucleus versus that of a benign tumor cell nucleus."
      ]
    },
    {
      "cell_type": "markdown",
      "metadata": {
        "id": "7H0qDiNQ8GBl"
      },
      "source": [
        "## Data\n",
        "The data comes from [UCI's Machine Learning Repository](https://archive.ics.uci.edu/ml/datasets/Breast+Cancer+Wisconsin+%28Diagnostic%29) and contains 569 observations and 33 variables, of which we will only observe the first 11 variables. There are no missing values. 212 of the records are diagnosed as malignant tumors, and 357 of the records are diagnosed as benign tumors.\n",
        "\n",
        "Specifically, the area-mean, concavity-mean, symmetry-mean, and smoothness-mean fields will be analyzed.\n",
        "\n",
        "1. The area-mean is measured by counting the number of pixels within a defined boundary of a cell nucleus.\n",
        "\n",
        "2. The concavity-mean is measured by the extent to which the actual boundary of the nucleus lies on the inside of chords drawn between non-adjacent boundary points. A smaller concavity-mean indicates less concavity.\n",
        "\n",
        "3. The symmetry-mean is measured by the length difference between lines perpendicular to the major axis across a cell nucleus. A smaller symmetry mean indicates greater symmetry.\n",
        "\n",
        "4. The smoothness-mean is measured by the difference between the length of a radial line and the mean length of the lines surrounding it. A smaller smoothness mean indicates greater smoothness."
      ]
    },
    {
      "cell_type": "code",
      "metadata": {
        "id": "fLpX8FwSfI1Z"
      },
      "source": [
        "# Set up environment\n",
        "import math\n",
        "import pandas as pd\n",
        "import numpy as np\n",
        "import matplotlib.pyplot as plt\n",
        "from scipy import stats"
      ],
      "execution_count": null,
      "outputs": []
    },
    {
      "cell_type": "code",
      "metadata": {
        "id": "bdTczoTSfn9y",
        "colab": {
          "base_uri": "https://localhost:8080/",
          "height": 731
        },
        "outputId": "7627f031-d53e-4656-98db-dec7a9f3dbcf"
      },
      "source": [
        "# Read in the dataset\n",
        "breast_cancer = pd.read_csv('https://raw.githubusercontent.com/zhgjenny93/datasets/main/breast_cancer_diagnostics.csv')\n",
        "print(breast_cancer.shape)\n",
        "\n",
        "# The study is only interested in the first 11 columns of the dataset. Truncate the dataset.\n",
        "breast_cancer = breast_cancer.iloc[:, :11]\n",
        "\n",
        "# Check for missing values\n",
        "print('Check for Null values:')\n",
        "print(breast_cancer.isnull().sum())\n",
        "\n",
        "# Review some summary information on the dataset\n",
        "breast_cancer.info()\n",
        "breast_cancer.head()"
      ],
      "execution_count": null,
      "outputs": [
        {
          "output_type": "stream",
          "text": [
            "(569, 33)\n",
            "Check for Null values:\n",
            "id                     0\n",
            "diagnosis              0\n",
            "radius_mean            0\n",
            "texture_mean           0\n",
            "perimeter_mean         0\n",
            "area_mean              0\n",
            "smoothness_mean        0\n",
            "compactness_mean       0\n",
            "concavity_mean         0\n",
            "concave points_mean    0\n",
            "symmetry_mean          0\n",
            "dtype: int64\n",
            "<class 'pandas.core.frame.DataFrame'>\n",
            "RangeIndex: 569 entries, 0 to 568\n",
            "Data columns (total 11 columns):\n",
            " #   Column               Non-Null Count  Dtype  \n",
            "---  ------               --------------  -----  \n",
            " 0   id                   569 non-null    int64  \n",
            " 1   diagnosis            569 non-null    object \n",
            " 2   radius_mean          569 non-null    float64\n",
            " 3   texture_mean         569 non-null    float64\n",
            " 4   perimeter_mean       569 non-null    float64\n",
            " 5   area_mean            569 non-null    float64\n",
            " 6   smoothness_mean      569 non-null    float64\n",
            " 7   compactness_mean     569 non-null    float64\n",
            " 8   concavity_mean       569 non-null    float64\n",
            " 9   concave points_mean  569 non-null    float64\n",
            " 10  symmetry_mean        569 non-null    float64\n",
            "dtypes: float64(9), int64(1), object(1)\n",
            "memory usage: 49.0+ KB\n"
          ],
          "name": "stdout"
        },
        {
          "output_type": "execute_result",
          "data": {
            "text/html": [
              "<div>\n",
              "<style scoped>\n",
              "    .dataframe tbody tr th:only-of-type {\n",
              "        vertical-align: middle;\n",
              "    }\n",
              "\n",
              "    .dataframe tbody tr th {\n",
              "        vertical-align: top;\n",
              "    }\n",
              "\n",
              "    .dataframe thead th {\n",
              "        text-align: right;\n",
              "    }\n",
              "</style>\n",
              "<table border=\"1\" class=\"dataframe\">\n",
              "  <thead>\n",
              "    <tr style=\"text-align: right;\">\n",
              "      <th></th>\n",
              "      <th>id</th>\n",
              "      <th>diagnosis</th>\n",
              "      <th>radius_mean</th>\n",
              "      <th>texture_mean</th>\n",
              "      <th>perimeter_mean</th>\n",
              "      <th>area_mean</th>\n",
              "      <th>smoothness_mean</th>\n",
              "      <th>compactness_mean</th>\n",
              "      <th>concavity_mean</th>\n",
              "      <th>concave points_mean</th>\n",
              "      <th>symmetry_mean</th>\n",
              "    </tr>\n",
              "  </thead>\n",
              "  <tbody>\n",
              "    <tr>\n",
              "      <th>0</th>\n",
              "      <td>842302</td>\n",
              "      <td>M</td>\n",
              "      <td>17.99</td>\n",
              "      <td>10.38</td>\n",
              "      <td>122.80</td>\n",
              "      <td>1001.0</td>\n",
              "      <td>0.11840</td>\n",
              "      <td>0.27760</td>\n",
              "      <td>0.3001</td>\n",
              "      <td>0.14710</td>\n",
              "      <td>0.2419</td>\n",
              "    </tr>\n",
              "    <tr>\n",
              "      <th>1</th>\n",
              "      <td>842517</td>\n",
              "      <td>M</td>\n",
              "      <td>20.57</td>\n",
              "      <td>17.77</td>\n",
              "      <td>132.90</td>\n",
              "      <td>1326.0</td>\n",
              "      <td>0.08474</td>\n",
              "      <td>0.07864</td>\n",
              "      <td>0.0869</td>\n",
              "      <td>0.07017</td>\n",
              "      <td>0.1812</td>\n",
              "    </tr>\n",
              "    <tr>\n",
              "      <th>2</th>\n",
              "      <td>84300903</td>\n",
              "      <td>M</td>\n",
              "      <td>19.69</td>\n",
              "      <td>21.25</td>\n",
              "      <td>130.00</td>\n",
              "      <td>1203.0</td>\n",
              "      <td>0.10960</td>\n",
              "      <td>0.15990</td>\n",
              "      <td>0.1974</td>\n",
              "      <td>0.12790</td>\n",
              "      <td>0.2069</td>\n",
              "    </tr>\n",
              "    <tr>\n",
              "      <th>3</th>\n",
              "      <td>84348301</td>\n",
              "      <td>M</td>\n",
              "      <td>11.42</td>\n",
              "      <td>20.38</td>\n",
              "      <td>77.58</td>\n",
              "      <td>386.1</td>\n",
              "      <td>0.14250</td>\n",
              "      <td>0.28390</td>\n",
              "      <td>0.2414</td>\n",
              "      <td>0.10520</td>\n",
              "      <td>0.2597</td>\n",
              "    </tr>\n",
              "    <tr>\n",
              "      <th>4</th>\n",
              "      <td>84358402</td>\n",
              "      <td>M</td>\n",
              "      <td>20.29</td>\n",
              "      <td>14.34</td>\n",
              "      <td>135.10</td>\n",
              "      <td>1297.0</td>\n",
              "      <td>0.10030</td>\n",
              "      <td>0.13280</td>\n",
              "      <td>0.1980</td>\n",
              "      <td>0.10430</td>\n",
              "      <td>0.1809</td>\n",
              "    </tr>\n",
              "  </tbody>\n",
              "</table>\n",
              "</div>"
            ],
            "text/plain": [
              "         id diagnosis  ...  concave points_mean  symmetry_mean\n",
              "0    842302         M  ...              0.14710         0.2419\n",
              "1    842517         M  ...              0.07017         0.1812\n",
              "2  84300903         M  ...              0.12790         0.2069\n",
              "3  84348301         M  ...              0.10520         0.2597\n",
              "4  84358402         M  ...              0.10430         0.1809\n",
              "\n",
              "[5 rows x 11 columns]"
            ]
          },
          "metadata": {
            "tags": []
          },
          "execution_count": 2
        }
      ]
    },
    {
      "cell_type": "markdown",
      "metadata": {
        "id": "ZSEPIl7g-q_w"
      },
      "source": [
        "## Methods\n",
        "For the study, the data will be split into two groups based on benign or malignant diagnosis. The distributions of the physical attributes of the two groups will be checked to see if they are close to normally distributed based on visual inspections of their histograms, and descriptive statistics (kurtosis, skewness, and Shapiro-Wilk). \n",
        "\n",
        "If the distributions are normal, an indepedent samples t-test will be conducted between the groups at the two-tail, 95% interval.\n",
        "\n",
        "If the distributions are not normal, a Kruskal-Wallis test will be conducted to determine if there are statistically significant differences between the two groups."
      ]
    },
    {
      "cell_type": "code",
      "metadata": {
        "colab": {
          "base_uri": "https://localhost:8080/"
        },
        "id": "FMMMr4qezM0b",
        "outputId": "c3de2b10-64ac-4db3-ac92-d978bd224822"
      },
      "source": [
        "malignant = breast_cancer[breast_cancer['diagnosis']=='M']\n",
        "benign = breast_cancer[breast_cancer['diagnosis']=='B']\n",
        "\n",
        "print(malignant.shape)\n",
        "print(benign.shape)"
      ],
      "execution_count": null,
      "outputs": [
        {
          "output_type": "stream",
          "text": [
            "(212, 11)\n",
            "(357, 11)\n"
          ],
          "name": "stdout"
        }
      ]
    },
    {
      "cell_type": "code",
      "metadata": {
        "colab": {
          "base_uri": "https://localhost:8080/",
          "height": 314
        },
        "id": "3dai41Ql6_Z6",
        "outputId": "f4a442f1-658d-4e7f-dae5-c46a5bab629b"
      },
      "source": [
        "# First Hypothesis: Benign tumor nuclei are smaller than malignant tumor nuclei.\n",
        "\n",
        "# Visually check for normality through histograms\n",
        "plt.hist(malignant['area_mean'], alpha = 0.5)\n",
        "plt.hist(benign['area_mean'], alpha = 0.5)\n",
        "\n",
        "plt.legend(['Malignant Nucleus Area', 'Benign Nucleus Area'])\n",
        "plt.show()\n",
        "\n",
        "# Check descriptive statistics with Shapiro-Wilk\n",
        "print(stats.shapiro(malignant['area_mean']))\n",
        "print(stats.shapiro(benign['area_mean']))\n",
        "# The W is close to 1, and the p-value is less than 0.001. The samples are normally distributed.\n",
        "\n",
        "# Conduct the t-test\n",
        "stats.ttest_ind(malignant['area_mean'], benign['area_mean'])\n",
        "# The test reveal a p-value significantly smaller than 0.001, there is significant difference in the area\n",
        "# of benign and malignant tumor cell nuclei."
      ],
      "execution_count": null,
      "outputs": [
        {
          "output_type": "display_data",
          "data": {
            "image/png": "[encoded data removed]",
            "text/plain": [
              "<Figure size 432x288 with 1 Axes>"
            ]
          },
          "metadata": {
            "tags": [],
            "needs_background": "light"
          }
        },
        {
          "output_type": "stream",
          "text": [
            "(0.9332621097564697, 2.969658829954369e-08)\n",
            "(0.9906416535377502, 0.02278628945350647)\n"
          ],
          "name": "stdout"
        },
        {
          "output_type": "execute_result",
          "data": {
            "text/plain": [
              "Ttest_indResult(statistic=23.938687235690992, pvalue=4.734564310307344e-88)"
            ]
          },
          "metadata": {
            "tags": []
          },
          "execution_count": 4
        }
      ]
    },
    {
      "cell_type": "code",
      "metadata": {
        "colab": {
          "base_uri": "https://localhost:8080/",
          "height": 478
        },
        "id": "48oxS_l1_EI6",
        "outputId": "1c903320-9fbf-423a-b3a7-61053434528d"
      },
      "source": [
        "# Create a boxplot to visually inspect the difference in distribution of records in the same field.\n",
        "breast_cancer.boxplot('area_mean', by='diagnosis', figsize=(6,6))\n",
        "plt.title('Area_Mean', fontsize =14)\n",
        "plt.xticks([1,2],['Benign', 'Malignant'], fontsize = 12)\n",
        "plt.xlabel('Diagnosis', fontsize = 13)\n",
        "\n",
        "plt.show()"
      ],
      "execution_count": null,
      "outputs": [
        {
          "output_type": "stream",
          "text": [
            "/usr/local/lib/python3.6/dist-packages/numpy/core/_asarray.py:83: VisibleDeprecationWarning: Creating an ndarray from ragged nested sequences (which is a list-or-tuple of lists-or-tuples-or ndarrays with different lengths or shapes) is deprecated. If you meant to do this, you must specify 'dtype=object' when creating the ndarray\n",
            "  return array(a, dtype, copy=False, order=order)\n"
          ],
          "name": "stderr"
        },
        {
          "output_type": "display_data",
          "data": {
            "image/png": "[encoded data removed]",
            "text/plain": [
              "<Figure size 432x432 with 1 Axes>"
            ]
          },
          "metadata": {
            "tags": [],
            "needs_background": "light"
          }
        }
      ]
    },
    {
      "cell_type": "code",
      "metadata": {
        "id": "MpiE867nsUiO"
      },
      "source": [
        "# Define function for confidence interval\n",
        "\n",
        "def get_95_ci(array_1, array_2):\n",
        "  sample_1_n = array_1.shape[0]\n",
        "  sample_2_n = array_2.shape[0]\n",
        "  sample_1_mean = array_1.mean()\n",
        "  sample_2_mean = array_2.mean()\n",
        "  sample_1_var = array_1.var()\n",
        "  sample_2_var = array_2.var()\n",
        "  mean_diff = sample_2_mean - sample_1_mean\n",
        "  std_err_diff = math.sqrt((sample_1_var/sample_1_n) + (sample_2_var/sample_2_n))\n",
        "  margin_of_err = 1.96 * std_err_diff\n",
        "  ci_lower = mean_diff - margin_of_err\n",
        "  ci_upper = mean_diff + margin_of_err\n",
        "  return(\"The difference in means at the 95% confidence interval (two-tail) is between \"+ str(ci_lower)+ \" and \" + str(ci_upper)+ \".\")\n"
      ],
      "execution_count": null,
      "outputs": []
    },
    {
      "cell_type": "code",
      "metadata": {
        "colab": {
          "base_uri": "https://localhost:8080/"
        },
        "id": "OLtvkcR_xteS",
        "outputId": "cf9800f9-d1aa-45f7-a6cf-0d9f406079ff"
      },
      "source": [
        "# Find the confidence interval for the difference in means for the area of tumor cell nuclei\n",
        "print(get_95_ci(benign['area_mean'], malignant['area_mean']))\n",
        "print(\"The average area of a benign tumor cell nucleus is {}\".format(benign['area_mean'].mean()))"
      ],
      "execution_count": null,
      "outputs": [
        {
          "output_type": "stream",
          "text": [
            "The difference in means at the 95% confidence interval (two-tail) is between 464.1351984332775 and 567.0372395985389.\n",
            "The average area of a benign tumor cell nucleus is 462.79019607843145\n"
          ],
          "name": "stdout"
        }
      ]
    },
    {
      "cell_type": "code",
      "metadata": {
        "colab": {
          "base_uri": "https://localhost:8080/",
          "height": 331
        },
        "id": "GFAa3MaK_1v2",
        "outputId": "f531dd76-5303-4e6b-a57a-1cd530b3278c"
      },
      "source": [
        "# Second Hypothesis: Benign tumor nuclei are less severe in concavity than malignant tumor nuclei.\n",
        "\n",
        "# Plot histograms and perform a visual check for normal distribution\n",
        "plt.hist(stats.zscore(malignant['concavity_mean']), alpha = 0.5)\n",
        "plt.hist(stats.zscore(benign['concavity_mean']), alpha = 0.5)\n",
        "\n",
        "plt.legend(['Malignant Nucleus Concavity', 'Benign Nucleus Concavity'])\n",
        "plt.show()\n",
        "\n",
        "# Benign data sample does not appear to be normally distributed, check with descriptive statistics.\n",
        "print(stats.shapiro(malignant['concavity_mean']))\n",
        "print(stats.shapiro(benign['concavity_mean']))\n",
        "print(stats.describe(benign['concavity_mean']))\n",
        "# Benign data has a W value far from 1, and skewness and kurtosis not conducive to identifying a normal distribution.\n",
        "\n",
        "# Since the distributions are not normal, conduct a Kruskal-Wallis test\n",
        "stats.kruskal(malignant['concavity_mean'], benign['concavity_mean'])\n",
        "# Based on the p-value, we can reject the null that the variables have the same distribution."
      ],
      "execution_count": null,
      "outputs": [
        {
          "output_type": "display_data",
          "data": {
            "image/png": "[encoded data removed]",
            "text/plain": [
              "<Figure size 432x288 with 1 Axes>"
            ]
          },
          "metadata": {
            "tags": [],
            "needs_background": "light"
          }
        },
        {
          "output_type": "stream",
          "text": [
            "(0.95293128490448, 1.9665981199068483e-06)\n",
            "(0.7372753620147705, 2.2455432115817253e-23)\n",
            "DescribeResult(nobs=357, minmax=(0.0, 0.4108), mean=0.04605762100840336, variance=0.0018872204874219448, skewness=3.4586534729093175, kurtosis=20.527388984137698)\n"
          ],
          "name": "stdout"
        },
        {
          "output_type": "execute_result",
          "data": {
            "text/plain": [
              "KruskalResult(statistic=305.43657612021565, pvalue=2.1545636238729746e-68)"
            ]
          },
          "metadata": {
            "tags": []
          },
          "execution_count": 8
        }
      ]
    },
    {
      "cell_type": "code",
      "metadata": {
        "colab": {
          "base_uri": "https://localhost:8080/",
          "height": 478
        },
        "id": "UtIOqYiV0mE6",
        "outputId": "6a5d1b7a-f599-4efb-d193-e9fb52b697b5"
      },
      "source": [
        "# Create a boxplot to visually inspect the difference in distribution of records in the same field.\n",
        "breast_cancer.boxplot('concavity_mean', by='diagnosis', figsize=(6,6))\n",
        "plt.title('Concavity_Mean', fontsize =14)\n",
        "plt.xticks([1,2],['Benign', 'Malignant'], fontsize = 12)\n",
        "plt.xlabel('Diagnosis', fontsize = 13)\n",
        "\n",
        "plt.show()"
      ],
      "execution_count": null,
      "outputs": [
        {
          "output_type": "stream",
          "text": [
            "/usr/local/lib/python3.6/dist-packages/numpy/core/_asarray.py:83: VisibleDeprecationWarning: Creating an ndarray from ragged nested sequences (which is a list-or-tuple of lists-or-tuples-or ndarrays with different lengths or shapes) is deprecated. If you meant to do this, you must specify 'dtype=object' when creating the ndarray\n",
            "  return array(a, dtype, copy=False, order=order)\n"
          ],
          "name": "stderr"
        },
        {
          "output_type": "display_data",
          "data": {
            "image/png": "[encoded data removed]",
            "text/plain": [
              "<Figure size 432x432 with 1 Axes>"
            ]
          },
          "metadata": {
            "tags": [],
            "needs_background": "light"
          }
        }
      ]
    },
    {
      "cell_type": "code",
      "metadata": {
        "colab": {
          "base_uri": "https://localhost:8080/"
        },
        "id": "7wz02oRH0KWr",
        "outputId": "52f82b63-9648-4931-c150-a1d7fbd88f38"
      },
      "source": [
        "# Find the confidence interval\n",
        "print(get_95_ci(benign['concavity_mean'], malignant['concavity_mean']))\n",
        "print(\"The average concavity of a benign tumor cell nucleus is {}\".format(benign['concavity_mean'].mean()))"
      ],
      "execution_count": null,
      "outputs": [
        {
          "output_type": "stream",
          "text": [
            "The difference in means at the 95% confidence interval (two-tail) is between 0.10365862591783591 and 0.12577556602762158.\n",
            "The average concavity of a benign tumor cell nucleus is 0.04605762100840336\n"
          ],
          "name": "stdout"
        }
      ]
    },
    {
      "cell_type": "code",
      "metadata": {
        "colab": {
          "base_uri": "https://localhost:8080/",
          "height": 314
        },
        "id": "UOxypQTnEikO",
        "outputId": "ef560274-67a8-437a-8ee6-58e276f43d62"
      },
      "source": [
        "# Third Hypothesis: Benign tumor nuclei are more symmetrical than malignant tumor nuclei.\n",
        "\n",
        "# Visually inspect plotted histograms for normal distributions\n",
        "plt.hist(np.log(malignant['symmetry_mean']), alpha = 0.5)\n",
        "plt.hist(np.log(benign['symmetry_mean']), alpha = 0.5)\n",
        "\n",
        "plt.legend(['Malignant Nucleus Smoothness', 'Benign Nucleus Smoothness'])\n",
        "plt.show()\n",
        "\n",
        "# The data looks normally distributed, double checking with Shapiro-Wilk\n",
        "print(stats.shapiro(malignant['symmetry_mean']))\n",
        "print(stats.shapiro(benign['symmetry_mean']))\n",
        "\n",
        "# The distribution is normal, proceed with T-test\n",
        "stats.ttest_ind(malignant['symmetry_mean'], benign['symmetry_mean'])\n",
        "# The p-value is significantly smaller than 0.001, and we can thus reject the null that there is no significant\n",
        "# difference between the two distributions. "
      ],
      "execution_count": null,
      "outputs": [
        {
          "output_type": "display_data",
          "data": {
            "image/png": "[encoded data removed]",
            "text/plain": [
              "<Figure size 432x288 with 1 Axes>"
            ]
          },
          "metadata": {
            "tags": [],
            "needs_background": "light"
          }
        },
        {
          "output_type": "stream",
          "text": [
            "(0.9648756384849548, 4.0841245208866894e-05)\n",
            "(0.9740927219390869, 5.1829279072990175e-06)\n"
          ],
          "name": "stdout"
        },
        {
          "output_type": "execute_result",
          "data": {
            "text/plain": [
              "Ttest_indResult(statistic=8.338311789592808, pvalue=5.733384028466827e-16)"
            ]
          },
          "metadata": {
            "tags": []
          },
          "execution_count": 11
        }
      ]
    },
    {
      "cell_type": "code",
      "metadata": {
        "colab": {
          "base_uri": "https://localhost:8080/",
          "height": 478
        },
        "id": "ayOv4eK7yg0f",
        "outputId": "17a1bcba-4b21-428f-9bcc-17dd7eedf39a"
      },
      "source": [
        "# Create a boxplot to visually inspect the difference in distribution of records in the same field.\n",
        "breast_cancer.boxplot('symmetry_mean', by='diagnosis', figsize=(6,6))\n",
        "plt.title('Symmetry_Mean', fontsize =14)\n",
        "plt.xticks([1,2],['Benign', 'Malignant'], fontsize = 12)\n",
        "plt.xlabel('Diagnosis', fontsize = 13)\n",
        "\n",
        "plt.show()"
      ],
      "execution_count": null,
      "outputs": [
        {
          "output_type": "stream",
          "text": [
            "/usr/local/lib/python3.6/dist-packages/numpy/core/_asarray.py:83: VisibleDeprecationWarning: Creating an ndarray from ragged nested sequences (which is a list-or-tuple of lists-or-tuples-or ndarrays with different lengths or shapes) is deprecated. If you meant to do this, you must specify 'dtype=object' when creating the ndarray\n",
            "  return array(a, dtype, copy=False, order=order)\n"
          ],
          "name": "stderr"
        },
        {
          "output_type": "display_data",
          "data": {
            "image/png": "[encoded data removed]",
            "text/plain": [
              "<Figure size 432x432 with 1 Axes>"
            ]
          },
          "metadata": {
            "tags": [],
            "needs_background": "light"
          }
        }
      ]
    },
    {
      "cell_type": "code",
      "metadata": {
        "colab": {
          "base_uri": "https://localhost:8080/"
        },
        "id": "IrsAm3b51eqQ",
        "outputId": "66875962-ba02-45a3-ed4d-d18c283cce58"
      },
      "source": [
        "# Find the confidence interval\n",
        "print(get_95_ci(benign['symmetry_mean'], malignant['symmetry_mean']))\n",
        "print(\"The average symmetry of a benign tumor cell nucleus is {}\".format(benign['symmetry_mean'].mean()))"
      ],
      "execution_count": null,
      "outputs": [
        {
          "output_type": "stream",
          "text": [
            "The difference in means at the 95% confidence interval (two-tail) is between 0.014199284075954392 and 0.023246651656829372.\n",
            "The average symmetry of a benign tumor cell nucleus is 0.1741859943977591\n"
          ],
          "name": "stdout"
        }
      ]
    },
    {
      "cell_type": "code",
      "metadata": {
        "colab": {
          "base_uri": "https://localhost:8080/",
          "height": 314
        },
        "id": "7ooYxUxe1MTI",
        "outputId": "b5c15c4a-6c68-46a2-81b4-ca4ff81695db"
      },
      "source": [
        "# Fourth Hypothesis: Benign tumor nuclei are more smooth than malignant tumor nuclei.\n",
        "\n",
        "# First, visually check for normality through plotted histograms\n",
        "plt.hist(np.log(malignant['smoothness_mean']), alpha = 0.5)\n",
        "plt.hist(np.log(benign['smoothness_mean']), alpha = 0.5)\n",
        "\n",
        "plt.legend(['Malignant Nucleus Smoothness', 'Benign Nucleus Smoothness'])\n",
        "plt.show()\n",
        "\n",
        "# The data looks normal, let's double check with Shapiro-Wilks\n",
        "print(stats.shapiro(malignant['smoothness_mean']))\n",
        "print(stats.shapiro(benign['smoothness_mean']))\n",
        "\n",
        "# The distribution is normal, proceed with T-test\n",
        "stats.ttest_ind(malignant['smoothness_mean'], benign['smoothness_mean'])\n",
        "# The p-value is significantly smaller than 0.001. Thus we can reject the null, there is in fact significant\n",
        "# difference between the two distributions."
      ],
      "execution_count": null,
      "outputs": [
        {
          "output_type": "display_data",
          "data": {
            "image/png": "[encoded data removed]",
            "text/plain": [
              "<Figure size 432x288 with 1 Axes>"
            ]
          },
          "metadata": {
            "tags": [],
            "needs_background": "light"
          }
        },
        {
          "output_type": "stream",
          "text": [
            "(0.9846862554550171, 0.021497642621397972)\n",
            "(0.9755095839500427, 9.502091415924951e-06)\n"
          ],
          "name": "stdout"
        },
        {
          "output_type": "execute_result",
          "data": {
            "text/plain": [
              "Ttest_indResult(statistic=9.146098808149038, pvalue=1.0518503592032013e-18)"
            ]
          },
          "metadata": {
            "tags": []
          },
          "execution_count": 17
        }
      ]
    },
    {
      "cell_type": "code",
      "metadata": {
        "colab": {
          "base_uri": "https://localhost:8080/",
          "height": 478
        },
        "id": "F56FdUKR3V_r",
        "outputId": "6a8f5fdb-cf79-478c-d09e-b89a4ecb3125"
      },
      "source": [
        "# Create a boxplot to visually inspect the difference in distribution of records in the same field.\n",
        "breast_cancer.boxplot('smoothness_mean', by='diagnosis', figsize=(6,6))\n",
        "plt.title('Smoothness_Mean', fontsize =14)\n",
        "plt.xticks([1,2],['Benign', 'Malignant'], fontsize = 12)\n",
        "plt.xlabel('Diagnosis', fontsize = 13)\n",
        "\n",
        "plt.show()"
      ],
      "execution_count": null,
      "outputs": [
        {
          "output_type": "stream",
          "text": [
            "/usr/local/lib/python3.6/dist-packages/numpy/core/_asarray.py:83: VisibleDeprecationWarning: Creating an ndarray from ragged nested sequences (which is a list-or-tuple of lists-or-tuples-or ndarrays with different lengths or shapes) is deprecated. If you meant to do this, you must specify 'dtype=object' when creating the ndarray\n",
            "  return array(a, dtype, copy=False, order=order)\n"
          ],
          "name": "stderr"
        },
        {
          "output_type": "display_data",
          "data": {
            "image/png": "[encoded data removed]",
            "text/plain": [
              "<Figure size 432x432 with 1 Axes>"
            ]
          },
          "metadata": {
            "tags": [],
            "needs_background": "light"
          }
        }
      ]
    },
    {
      "cell_type": "code",
      "metadata": {
        "colab": {
          "base_uri": "https://localhost:8080/"
        },
        "id": "bj_3G5Mb2EzX",
        "outputId": "26819e44-638c-49ba-ea9e-51c948e081b0"
      },
      "source": [
        "# Find the confidence interval\n",
        "print(get_95_ci(benign['smoothness_mean'], malignant['smoothness_mean']))\n",
        "print(\"The average smoothness of a benign tumor cell nucleus is {}\".format(benign['smoothness_mean'].mean()))"
      ],
      "execution_count": null,
      "outputs": [
        {
          "output_type": "stream",
          "text": [
            "The difference in means at the 95% confidence interval (two-tail) is between 0.008223997949178195 and 0.012617689065250178.\n",
            "The average smoothness of a benign tumor cell nucleus is 0.09247764705882357\n"
          ],
          "name": "stdout"
        }
      ]
    },
    {
      "cell_type": "markdown",
      "metadata": {
        "id": "evdo4Jmh2YQK"
      },
      "source": [
        "## Results\n",
        "Based on visual inspections and descriptive statistics, datasets for the area, symmetry, and smoothness of the tumor cell nuclei are normally distributed. T-tests were conducted for these datasets. Based on their p-values -- all significantly smaller than 0.001, the null hypothesis that there is no significant difference between these physical attributes of benign versus malignant tumor cells can be rejected.\n",
        "\n",
        "The measurement for concavity provided a non-normal distribution, and a Kruskall-Wallis test is conducted. Based on the p-value, the null hypothesis is rejected. There is significant difference between the two distributions.\n",
        "\n",
        "Visual inspections through boxplots of the distributions of the physical attributes between malignant and benign tumor cells reveal significant differences.\n",
        "\n",
        "The 95% confidence intervals suggest the following:\n",
        "1. The difference in the average area-mean between benign and malignant tumor cell nuclei is between 464.14 and 567.04 pixels. The average benign tumor cell nucleus area is 462.79 pixels.\n",
        "\n",
        "2. The difference in the average concavity-mean between benign and malignant tumor cell nuclei is between 0.104 and 0.126. The average benign tumor cell nucleus concavity measurement is 0.046.\n",
        "\n",
        "3. The difference in the average symmetry-mean between benign and malignant tumor cell nuclei is between 0.014 and 0.023. The average benign tumor cell nucleus symmetry measurement is 0.174.\n",
        "\n",
        "\n",
        "4. The difference in the average smoothness-mean between benign and malignant tumor cell nuclei is between 0.008 and 0.013. The average benign tumor cell nucleus smoothness measurement is 0.092."
      ]
    },
    {
      "cell_type": "markdown",
      "metadata": {
        "id": "lGk35d2e_6Kb"
      },
      "source": [
        "## Discussion and Recommendation\n",
        "Malignant tumor cell nuclei on average, have significantly higher values of area-mean, concavity-mean, symmetry-mean, and smoothness-mean. This shows that breast cancer diagnosis through this less invasive method of extracting a small amount of fluid from the breast tumor using a fine needle is feasible and ideally can be practiced in medical offices. \n",
        "\n",
        "As the results of this study ultimately directly impacts the health and wellbeing of people, further extensive testing should be done with a bigger dataset, and a set of guidelines or baseline values for benign tumors should be defined for diagnosis of a breast tumor."
      ]
    }
  ]
}